{
  "nbformat": 4,
  "nbformat_minor": 0,
  "metadata": {
    "colab": {
      "provenance": []
    },
    "kernelspec": {
      "name": "python3",
      "display_name": "Python 3"
    },
    "language_info": {
      "name": "python"
    }
  },
  "cells": [
    {
      "cell_type": "code",
      "source": [
        "import pandas as pd\n",
        "from sklearn.model_selection import train_test_split\n",
        "\n",
        "# Step 1: Load existing train and val splits\n",
        "train_df = pd.read_csv(\"train_clean.csv\")\n",
        "val_df = pd.read_csv(\"val_clean.csv\")\n",
        "\n",
        "# Step 2: Combine them\n",
        "combined_df = pd.concat([train_df, val_df], ignore_index=True)\n",
        "\n",
        "# Step 3: Columns to drop\n",
        "columns_to_drop = [\n",
        "    \"bisexual\", \"heterosexual\",\"homosexual_gay_or_lesbian\", \"intellectual_or_learning_disability\",\"other_disability\", \"other_sexual_orientation\",\"physical_disability\", \"psychiatric_or_mental_illness\", \"publication_id\", \"parent_id\",\"article_id\", \"rating\", \"funny\", \"wow\", \"sad\", \"likes\", \"disagree\", \"worker_x\", \"worker_y\", \"sexual_orientation\" , \"disability\"\n",
        "]\n",
        "\n",
        "# Step 4: Filter and drop only existing columns\n",
        "existing_to_drop = [col for col in columns_to_drop if col in combined_df.columns]\n",
        "combined_df.drop(columns=existing_to_drop, inplace=True)\n",
        "\n",
        "# Step 5: Print dropped columns\n",
        "print(f\"🗑️ Dropped columns: {existing_to_drop}\")"
      ],
      "metadata": {
        "colab": {
          "base_uri": "https://localhost:8080/"
        },
        "id": "kyjR8Y-pkmPe",
        "outputId": "746d1fec-de45-4019-fb7f-58a4dc1b51d2"
      },
      "execution_count": 15,
      "outputs": [
        {
          "output_type": "stream",
          "name": "stdout",
          "text": [
            "🗑️ Dropped columns: ['bisexual', 'heterosexual', 'homosexual_gay_or_lesbian', 'intellectual_or_learning_disability', 'other_disability', 'other_sexual_orientation', 'physical_disability', 'psychiatric_or_mental_illness', 'publication_id', 'parent_id', 'article_id', 'rating', 'funny', 'wow', 'sad', 'likes', 'disagree', 'worker_x', 'worker_y', 'sexual_orientation', 'disability']\n"
          ]
        }
      ]
    },
    {
      "cell_type": "code",
      "source": [
        "print(combined_df.head(10))"
      ],
      "metadata": {
        "colab": {
          "base_uri": "https://localhost:8080/"
        },
        "id": "AFLXxwRVRshM",
        "outputId": "4ee0d8dc-01e0-4316-d701-a028e2037571"
      },
      "execution_count": 16,
      "outputs": [
        {
          "output_type": "stream",
          "name": "stdout",
          "text": [
            "        id    target                                       comment_text  \\\n",
            "0  5193512  0.166667  People would rather waste money on parks. The ...   \n",
            "1  5089113  0.000000  When JR opens her mouth her face gets contorte...   \n",
            "2  5854622  0.000000  The more the antifa show up and cause chaos at...   \n",
            "3  6240221  0.166667  400 years of colonialism?\\n\\nMy daughter's eat...   \n",
            "4  5171466  0.000000  The Globe knows the fate of Charlie  Hebdo is ...   \n",
            "5  5907740  0.000000  So you think justice is punishing people for t...   \n",
            "6   461324  0.000000  Frankly, I couldn't care less who North Korea ...   \n",
            "7   787161  0.000000  What has your personal issue about an inherita...   \n",
            "8   536860  0.000000  I think you need to smoke a bowl and chill. Pe...   \n",
            "9  5748705  0.200000  DLNR is too incompetent to manage harbor impro...   \n",
            "\n",
            "   severe_toxicity  obscene_x  identity_attack_x  insult_x  threat_x  asian  \\\n",
            "0              0.0        0.0           0.000000  0.166667       0.0    NaN   \n",
            "1              0.0        0.0           0.000000  0.000000       0.0    0.0   \n",
            "2              0.0        0.0           0.000000  0.000000       0.0    NaN   \n",
            "3              0.0        0.0           0.000000  0.166667       0.0    NaN   \n",
            "4              0.0        0.0           0.000000  0.000000       0.0    0.0   \n",
            "5              0.0        0.0           0.166667  0.000000       0.0    NaN   \n",
            "6              0.0        0.0           0.000000  0.000000       0.0    NaN   \n",
            "7              0.0        0.0           0.000000  0.166667       0.0    NaN   \n",
            "8              0.0        0.0           0.000000  0.000000       0.0    NaN   \n",
            "9              0.0        0.0           0.000000  0.200000       0.0    0.0   \n",
            "\n",
            "   atheist  ...  toxic  severe_toxic  identity_attack_y  insult_y  obscene_y  \\\n",
            "0      NaN  ...      0             0                  0         0          0   \n",
            "1      0.0  ...      0             0                  0         0          0   \n",
            "2      NaN  ...      0             0                  0         0          0   \n",
            "3      NaN  ...      0             0                  0         0          0   \n",
            "4      0.0  ...      0             0                  0         0          0   \n",
            "5      NaN  ...      0             0                  0         0          0   \n",
            "6      NaN  ...      0             0                  0         0          0   \n",
            "7      NaN  ...      0             0                  0         0          0   \n",
            "8      NaN  ...      0             0                  0         0          0   \n",
            "9      0.0  ...      0             0                  0         0          0   \n",
            "\n",
            "   sexual_explicit_y  threat_y  gender  race_or_ethnicity  religion  \n",
            "0                  0         0     NaN                NaN       NaN  \n",
            "1                  0         0    none               none      none  \n",
            "2                  0         0     NaN                NaN       NaN  \n",
            "3                  0         0     NaN                NaN       NaN  \n",
            "4                  0         0    none               none    muslim  \n",
            "5                  0         0     NaN                NaN       NaN  \n",
            "6                  0         0     NaN                NaN       NaN  \n",
            "7                  0         0     NaN                NaN       NaN  \n",
            "8                  0         0     NaN                NaN       NaN  \n",
            "9                  0         0    none               none      none  \n",
            "\n",
            "[10 rows x 38 columns]\n"
          ]
        }
      ]
    },
    {
      "cell_type": "code",
      "source": [
        "# Rename columns as requested\n",
        "combined_df.rename(columns={\n",
        "    'obscene_x': 'obscene',\n",
        "    'identity_attack_x': 'identity_attack',\n",
        "    'insult_x': 'insult',\n",
        "    'threat_x': 'threat',\n",
        "    'sexual_explicit_x': 'sexual_explicit',\n",
        "    'toxic': 'toxic_label',\n",
        "    'severe_toxic': 'severe_toxic_label',\n",
        "    'identity_attack_y': 'identity_attack_label',\n",
        "    'insult_y': 'insult_label',\n",
        "    'obscene_y': 'obscene_label',\n",
        "    'sexual_explicit_y': 'sexual_explicit_label',\n",
        "    'threat_y': 'threat_label',\n",
        "    'gender': 'gender_label',\n",
        "    'race_or_ethnicity': 'race_or_ethnicity_label',\n",
        "    'religion': 'religion_label'\n",
        "}, inplace=True)"
      ],
      "metadata": {
        "id": "VKkwo-9FJ61d"
      },
      "execution_count": 17,
      "outputs": []
    },
    {
      "cell_type": "code",
      "source": [
        "print(combined_df.head(10))"
      ],
      "metadata": {
        "colab": {
          "base_uri": "https://localhost:8080/"
        },
        "id": "SEXIEYFCR4nd",
        "outputId": "27a25c16-603e-4116-89b0-ff77dc5159d2"
      },
      "execution_count": 18,
      "outputs": [
        {
          "output_type": "stream",
          "name": "stdout",
          "text": [
            "        id    target                                       comment_text  \\\n",
            "0  5193512  0.166667  People would rather waste money on parks. The ...   \n",
            "1  5089113  0.000000  When JR opens her mouth her face gets contorte...   \n",
            "2  5854622  0.000000  The more the antifa show up and cause chaos at...   \n",
            "3  6240221  0.166667  400 years of colonialism?\\n\\nMy daughter's eat...   \n",
            "4  5171466  0.000000  The Globe knows the fate of Charlie  Hebdo is ...   \n",
            "5  5907740  0.000000  So you think justice is punishing people for t...   \n",
            "6   461324  0.000000  Frankly, I couldn't care less who North Korea ...   \n",
            "7   787161  0.000000  What has your personal issue about an inherita...   \n",
            "8   536860  0.000000  I think you need to smoke a bowl and chill. Pe...   \n",
            "9  5748705  0.200000  DLNR is too incompetent to manage harbor impro...   \n",
            "\n",
            "   severe_toxicity  obscene  identity_attack    insult  threat  asian  \\\n",
            "0              0.0      0.0         0.000000  0.166667     0.0    NaN   \n",
            "1              0.0      0.0         0.000000  0.000000     0.0    0.0   \n",
            "2              0.0      0.0         0.000000  0.000000     0.0    NaN   \n",
            "3              0.0      0.0         0.000000  0.166667     0.0    NaN   \n",
            "4              0.0      0.0         0.000000  0.000000     0.0    0.0   \n",
            "5              0.0      0.0         0.166667  0.000000     0.0    NaN   \n",
            "6              0.0      0.0         0.000000  0.000000     0.0    NaN   \n",
            "7              0.0      0.0         0.000000  0.166667     0.0    NaN   \n",
            "8              0.0      0.0         0.000000  0.000000     0.0    NaN   \n",
            "9              0.0      0.0         0.000000  0.200000     0.0    0.0   \n",
            "\n",
            "   atheist  ...  toxic_label  severe_toxic_label  identity_attack_label  \\\n",
            "0      NaN  ...            0                   0                      0   \n",
            "1      0.0  ...            0                   0                      0   \n",
            "2      NaN  ...            0                   0                      0   \n",
            "3      NaN  ...            0                   0                      0   \n",
            "4      0.0  ...            0                   0                      0   \n",
            "5      NaN  ...            0                   0                      0   \n",
            "6      NaN  ...            0                   0                      0   \n",
            "7      NaN  ...            0                   0                      0   \n",
            "8      NaN  ...            0                   0                      0   \n",
            "9      0.0  ...            0                   0                      0   \n",
            "\n",
            "   insult_label  obscene_label  sexual_explicit_label  threat_label  \\\n",
            "0             0              0                      0             0   \n",
            "1             0              0                      0             0   \n",
            "2             0              0                      0             0   \n",
            "3             0              0                      0             0   \n",
            "4             0              0                      0             0   \n",
            "5             0              0                      0             0   \n",
            "6             0              0                      0             0   \n",
            "7             0              0                      0             0   \n",
            "8             0              0                      0             0   \n",
            "9             0              0                      0             0   \n",
            "\n",
            "   gender_label  race_or_ethnicity_label  religion_label  \n",
            "0           NaN                      NaN             NaN  \n",
            "1          none                     none            none  \n",
            "2           NaN                      NaN             NaN  \n",
            "3           NaN                      NaN             NaN  \n",
            "4          none                     none          muslim  \n",
            "5           NaN                      NaN             NaN  \n",
            "6           NaN                      NaN             NaN  \n",
            "7           NaN                      NaN             NaN  \n",
            "8           NaN                      NaN             NaN  \n",
            "9          none                     none            none  \n",
            "\n",
            "[10 rows x 38 columns]\n"
          ]
        }
      ]
    },
    {
      "cell_type": "code",
      "source": [
        "# Step 1: Convert 'created_date' safely\n",
        "combined_df['created_date'] = pd.to_datetime(combined_df['created_date'], errors='coerce')\n",
        "\n",
        "# Step 2: Drop invalid dates and log\n",
        "before_drop = len(combined_df)\n",
        "combined_df = combined_df.dropna(subset=['created_date'])\n",
        "after_drop = len(combined_df)\n",
        "dropped_rows = before_drop - after_drop\n",
        "\n",
        "print(f\"🗑️ Dropped {dropped_rows} rows due to invalid 'created_date' parsing.\")\n",
        "\n",
        "# Step 3: Remove timezone + microseconds for consistency\n",
        "combined_df['created_date'] = combined_df['created_date'].dt.tz_localize(None).dt.floor('s')\n",
        "\n",
        "# Step 4: Sort by date in descending order (latest first)\n",
        "combined_df = combined_df.sort_values(by='created_date', ascending=False)\n",
        "\n",
        "\n",
        "\n",
        "# Replace NaN in object (string/categorical) columns with 'none'\n",
        "object_cols = combined_df.select_dtypes(include='object').columns\n",
        "combined_df[object_cols] = combined_df[object_cols].fillna(\"none\")\n",
        "\n",
        "# Replace NaN in numeric columns with 0\n",
        "numeric_cols = combined_df.select_dtypes(include=['number']).columns\n",
        "combined_df[numeric_cols] = combined_df[numeric_cols].fillna(0)\n",
        "\n",
        "# Step 5: Split latest 10% for validation\n",
        "val_size = int(len(combined_df) * 0.10)\n",
        "val_split = combined_df.iloc[:val_size]  # latest 10%\n",
        "train_split = combined_df.iloc[val_size:]  # rest\n",
        "\n",
        "# Step 7: Print the first 10 rows of both splits to check\n",
        "print(\"✅ First 10 rows of validation set:\")\n",
        "print(val_split.head(10))\n",
        "\n",
        "print(\"\\n✅ First 10 rows of training set:\")\n",
        "print(train_split.head(10))\n",
        "\n",
        "# Step 8: Summary\n",
        "print(f\"✅ Split complete (latest first):\")\n",
        "print(f\"  ➤ Dropped rows: {dropped_rows}\")\n",
        "print(f\"  ➤ Training samples: {len(train_split)}\")\n",
        "print(f\"  ➤ Validation samples: {len(val_split)}\")"
      ],
      "metadata": {
        "colab": {
          "base_uri": "https://localhost:8080/"
        },
        "id": "_e6PsDuKLLMo",
        "outputId": "05b1b2df-57df-4328-ab45-882d5991fe71"
      },
      "execution_count": 23,
      "outputs": [
        {
          "output_type": "stream",
          "name": "stdout",
          "text": [
            "🗑️ Dropped 0 rows due to invalid 'created_date' parsing.\n",
            "✅ First 10 rows of validation set:\n",
            "              id    target                                       comment_text  \\\n",
            "560861   6334010  0.000000  Students defined as EBD are legally just as di...   \n",
            "664042   6334009  0.621212  Anyone who is quoted as having the following e...   \n",
            "647222   6333982  0.000000  thank you ,,,right or wrong,,, i am following ...   \n",
            "1552847  6333969  0.000000  What do you call people who STILL think the di...   \n",
            "1663933  6333967  0.000000  Maybe the tax on \"things\" would be collected w...   \n",
            "1631549  6333963  0.200000  If Alberta had given them nothing, you'd STILL...   \n",
            "757400   6333965  0.000000  cont....GBA:  \"here's the summation of that \"l...   \n",
            "315153   6333957  0.300000               There's no whine like Alberta whine!   \n",
            "491873   6333950  0.200000  Nah, I am too boring to parody.  This guy Camp...   \n",
            "1396648  6333955  0.166667  Payette's point of view is legitimate and I th...   \n",
            "\n",
            "         severe_toxicity   obscene  identity_attack    insult  threat  asian  \\\n",
            "560861          0.000000  0.000000         0.000000  0.000000     0.0    0.0   \n",
            "664042          0.030303  0.030303         0.045455  0.621212     0.0    0.0   \n",
            "647222          0.000000  0.000000         0.000000  0.000000     0.0    0.0   \n",
            "1552847         0.000000  0.000000         0.000000  0.000000     0.0    0.0   \n",
            "1663933         0.000000  0.000000         0.000000  0.000000     0.0    0.0   \n",
            "1631549         0.000000  0.000000         0.000000  0.200000     0.0    0.0   \n",
            "757400          0.000000  0.000000         0.000000  0.000000     0.0    0.0   \n",
            "315153          0.000000  0.000000         0.000000  0.100000     0.0    0.0   \n",
            "491873          0.000000  0.000000         0.000000  0.200000     0.0    0.0   \n",
            "1396648         0.000000  0.000000         0.166667  0.166667     0.0    0.0   \n",
            "\n",
            "         atheist  ...  toxic_label  severe_toxic_label  identity_attack_label  \\\n",
            "560861       0.0  ...            0                   0                      0   \n",
            "664042       0.0  ...            1                   0                      0   \n",
            "647222       0.0  ...            0                   0                      0   \n",
            "1552847      0.0  ...            0                   0                      0   \n",
            "1663933      0.0  ...            0                   0                      0   \n",
            "1631549      0.0  ...            0                   0                      0   \n",
            "757400       0.0  ...            0                   0                      0   \n",
            "315153       0.0  ...            0                   0                      0   \n",
            "491873       0.0  ...            0                   0                      0   \n",
            "1396648      0.0  ...            0                   0                      0   \n",
            "\n",
            "         insult_label  obscene_label  sexual_explicit_label  threat_label  \\\n",
            "560861              0              0                      0             0   \n",
            "664042              1              0                      0             0   \n",
            "647222              0              0                      0             0   \n",
            "1552847             0              0                      0             0   \n",
            "1663933             0              0                      0             0   \n",
            "1631549             0              0                      0             0   \n",
            "757400              0              0                      0             0   \n",
            "315153              0              0                      0             0   \n",
            "491873              0              0                      0             0   \n",
            "1396648             0              0                      0             0   \n",
            "\n",
            "         gender_label  race_or_ethnicity_label  religion_label  \n",
            "560861           none                     none            none  \n",
            "664042           none                     none            none  \n",
            "647222           none                     none            none  \n",
            "1552847          none                     none            none  \n",
            "1663933          none                     none            none  \n",
            "1631549          none                     none            none  \n",
            "757400           none                     none            none  \n",
            "315153           none                     none            none  \n",
            "491873           none                     none            none  \n",
            "1396648          none                     none            none  \n",
            "\n",
            "[10 rows x 38 columns]\n",
            "\n",
            "✅ First 10 rows of training set:\n",
            "              id  target                                       comment_text  \\\n",
            "385656   6111716     0.0  Bannon won't split the Right.  His plan is to ...   \n",
            "183027   6111718     0.0     Oh my goodness, what a head-shaking statement.   \n",
            "1464647  6111713     0.0  The 49ers are a fake NFL team.  They haven't w...   \n",
            "659957   6111712     0.7  A booming American economy with President Trum...   \n",
            "184101   6111714     0.0  Your posting comments is disrespecting our fla...   \n",
            "70063    6111705     0.0  Good article, the point that I take away is th...   \n",
            "443913   6111708     0.3  Maybe Gary Johnson? I can see why people weren...   \n",
            "1162826  6111702     0.0  @CW___\\nAn online system has a lot of other ad...   \n",
            "1384873  6111698     0.0  Five Thirty-Eight, in its average of all polls...   \n",
            "1298005  6111709     0.0  I hope this comment is not a reflection of wha...   \n",
            "\n",
            "         severe_toxicity  obscene  identity_attack  insult  threat  asian  \\\n",
            "385656               0.0      0.0              0.0     0.0     0.0    0.0   \n",
            "183027               0.0      0.0              0.0     0.0     0.0    0.0   \n",
            "1464647              0.0      0.0              0.0     0.0     0.0    0.0   \n",
            "659957               0.0      0.1              0.0     0.6     0.0    0.0   \n",
            "184101               0.0      0.0              0.0     0.0     0.0    0.0   \n",
            "70063                0.0      0.0              0.0     0.0     0.0    0.0   \n",
            "443913               0.0      0.0              0.1     0.1     0.0    0.0   \n",
            "1162826              0.0      0.0              0.0     0.0     0.0    0.0   \n",
            "1384873              0.0      0.0              0.0     0.0     0.0    0.0   \n",
            "1298005              0.0      0.0              0.0     0.0     0.0    0.0   \n",
            "\n",
            "         atheist  ...  toxic_label  severe_toxic_label  identity_attack_label  \\\n",
            "385656       0.0  ...            0                   0                      0   \n",
            "183027       0.0  ...            0                   0                      0   \n",
            "1464647      0.0  ...            0                   0                      0   \n",
            "659957       0.0  ...            1                   0                      0   \n",
            "184101       0.0  ...            0                   0                      0   \n",
            "70063        0.0  ...            0                   0                      0   \n",
            "443913       0.0  ...            0                   0                      0   \n",
            "1162826      0.0  ...            0                   0                      0   \n",
            "1384873      0.0  ...            0                   0                      0   \n",
            "1298005      0.0  ...            0                   0                      0   \n",
            "\n",
            "         insult_label  obscene_label  sexual_explicit_label  threat_label  \\\n",
            "385656              0              0                      0             0   \n",
            "183027              0              0                      0             0   \n",
            "1464647             0              0                      0             0   \n",
            "659957              1              0                      0             0   \n",
            "184101              0              0                      0             0   \n",
            "70063               0              0                      0             0   \n",
            "443913              0              0                      0             0   \n",
            "1162826             0              0                      0             0   \n",
            "1384873             0              0                      0             0   \n",
            "1298005             0              0                      0             0   \n",
            "\n",
            "         gender_label  race_or_ethnicity_label  religion_label  \n",
            "385656           none                     none            none  \n",
            "183027           none                     none            none  \n",
            "1464647          none                     none            none  \n",
            "659957           none                     none            none  \n",
            "184101           none                     none            none  \n",
            "70063            none                     none            none  \n",
            "443913           none                     none            none  \n",
            "1162826          none                     none            none  \n",
            "1384873          none                     none            none  \n",
            "1298005          none                     none            none  \n",
            "\n",
            "[10 rows x 38 columns]\n",
            "✅ Split complete (latest first):\n",
            "  ➤ Dropped rows: 0\n",
            "  ➤ Training samples: 1624385\n",
            "  ➤ Validation samples: 180487\n"
          ]
        }
      ]
    },
    {
      "cell_type": "code",
      "source": [
        "# Step 6: Save to disk\n",
        "train_split.to_csv(\"train.csv\", index=False)\n",
        "val_split.to_csv(\"val.csv\", index=False)\n",
        "from google.colab import files\n",
        "files.download('train.csv')\n",
        "files.download('val.csv')"
      ],
      "metadata": {
        "colab": {
          "base_uri": "https://localhost:8080/",
          "height": 17
        },
        "id": "8s4m0WUpOaYG",
        "outputId": "705b18b4-ff6a-4d10-b531-9bfddee3f61b"
      },
      "execution_count": 24,
      "outputs": [
        {
          "output_type": "display_data",
          "data": {
            "text/plain": [
              "<IPython.core.display.Javascript object>"
            ],
            "application/javascript": [
              "\n",
              "    async function download(id, filename, size) {\n",
              "      if (!google.colab.kernel.accessAllowed) {\n",
              "        return;\n",
              "      }\n",
              "      const div = document.createElement('div');\n",
              "      const label = document.createElement('label');\n",
              "      label.textContent = `Downloading \"${filename}\": `;\n",
              "      div.appendChild(label);\n",
              "      const progress = document.createElement('progress');\n",
              "      progress.max = size;\n",
              "      div.appendChild(progress);\n",
              "      document.body.appendChild(div);\n",
              "\n",
              "      const buffers = [];\n",
              "      let downloaded = 0;\n",
              "\n",
              "      const channel = await google.colab.kernel.comms.open(id);\n",
              "      // Send a message to notify the kernel that we're ready.\n",
              "      channel.send({})\n",
              "\n",
              "      for await (const message of channel.messages) {\n",
              "        // Send a message to notify the kernel that we're ready.\n",
              "        channel.send({})\n",
              "        if (message.buffers) {\n",
              "          for (const buffer of message.buffers) {\n",
              "            buffers.push(buffer);\n",
              "            downloaded += buffer.byteLength;\n",
              "            progress.value = downloaded;\n",
              "          }\n",
              "        }\n",
              "      }\n",
              "      const blob = new Blob(buffers, {type: 'application/binary'});\n",
              "      const a = document.createElement('a');\n",
              "      a.href = window.URL.createObjectURL(blob);\n",
              "      a.download = filename;\n",
              "      div.appendChild(a);\n",
              "      a.click();\n",
              "      div.remove();\n",
              "    }\n",
              "  "
            ]
          },
          "metadata": {}
        },
        {
          "output_type": "display_data",
          "data": {
            "text/plain": [
              "<IPython.core.display.Javascript object>"
            ],
            "application/javascript": [
              "download(\"download_2b497491-9f8c-4b23-b742-f17f1ab48076\", \"train.csv\", 748981644)"
            ]
          },
          "metadata": {}
        },
        {
          "output_type": "display_data",
          "data": {
            "text/plain": [
              "<IPython.core.display.Javascript object>"
            ],
            "application/javascript": [
              "\n",
              "    async function download(id, filename, size) {\n",
              "      if (!google.colab.kernel.accessAllowed) {\n",
              "        return;\n",
              "      }\n",
              "      const div = document.createElement('div');\n",
              "      const label = document.createElement('label');\n",
              "      label.textContent = `Downloading \"${filename}\": `;\n",
              "      div.appendChild(label);\n",
              "      const progress = document.createElement('progress');\n",
              "      progress.max = size;\n",
              "      div.appendChild(progress);\n",
              "      document.body.appendChild(div);\n",
              "\n",
              "      const buffers = [];\n",
              "      let downloaded = 0;\n",
              "\n",
              "      const channel = await google.colab.kernel.comms.open(id);\n",
              "      // Send a message to notify the kernel that we're ready.\n",
              "      channel.send({})\n",
              "\n",
              "      for await (const message of channel.messages) {\n",
              "        // Send a message to notify the kernel that we're ready.\n",
              "        channel.send({})\n",
              "        if (message.buffers) {\n",
              "          for (const buffer of message.buffers) {\n",
              "            buffers.push(buffer);\n",
              "            downloaded += buffer.byteLength;\n",
              "            progress.value = downloaded;\n",
              "          }\n",
              "        }\n",
              "      }\n",
              "      const blob = new Blob(buffers, {type: 'application/binary'});\n",
              "      const a = document.createElement('a');\n",
              "      a.href = window.URL.createObjectURL(blob);\n",
              "      a.download = filename;\n",
              "      div.appendChild(a);\n",
              "      a.click();\n",
              "      div.remove();\n",
              "    }\n",
              "  "
            ]
          },
          "metadata": {}
        },
        {
          "output_type": "display_data",
          "data": {
            "text/plain": [
              "<IPython.core.display.Javascript object>"
            ],
            "application/javascript": [
              "download(\"download_31910de6-ec36-4573-9dc0-39a87383ab2a\", \"val.csv\", 80988876)"
            ]
          },
          "metadata": {}
        }
      ]
    },
    {
      "cell_type": "code",
      "source": [
        "import pandas as pd\n",
        "test_df = pd.read_csv(\"test.csv\")\n",
        "\n",
        "# Step 3: Columns to drop\n",
        "columns_to_drop = [\n",
        "    \"bisexual\", \"heterosexual\",\"homosexual_gay_or_lesbian\", \"intellectual_or_learning_disability\",\"other_disability\", \"other_sexual_orientation\",\"physical_disability\", \"psychiatric_or_mental_illness\", \"publication_id\", \"parent_id\",\"article_id\", \"rating\", \"funny\", \"wow\", \"sad\", \"likes\", \"disagree\", \"sexual_orientation\" , \"disability\"\n",
        "]\n",
        "\n",
        "# Step 4: Filter and drop only existing columns\n",
        "existing_to_drop = [col for col in columns_to_drop if col in test_df.columns]\n",
        "test_df.drop(columns=existing_to_drop, inplace=True)\n",
        "\n",
        "# Step 5: Print dropped columns\n",
        "print(f\"🗑️ Dropped columns: {existing_to_drop}\")\n",
        "\n",
        "print(test_df.head(10))"
      ],
      "metadata": {
        "colab": {
          "base_uri": "https://localhost:8080/"
        },
        "id": "WQ-SQP5AeqYf",
        "outputId": "34bf0e28-b0a6-4576-df15-0dbace391c3b"
      },
      "execution_count": 3,
      "outputs": [
        {
          "output_type": "stream",
          "name": "stdout",
          "text": [
            "🗑️ Dropped columns: ['bisexual', 'heterosexual', 'homosexual_gay_or_lesbian', 'intellectual_or_learning_disability', 'other_disability', 'other_sexual_orientation', 'physical_disability', 'psychiatric_or_mental_illness', 'publication_id', 'parent_id', 'article_id', 'rating', 'funny', 'wow', 'sad', 'likes', 'disagree']\n",
            "        id                                       comment_text  \\\n",
            "0  7000000  Jeff Sessions is another one of Trump's Orwell...   \n",
            "1  7000001  I actually inspected the infrastructure on Gra...   \n",
            "2  7000002  No it won't . That's just wishful thinking on ...   \n",
            "3  7000003  Instead of wringing our hands and nibbling the...   \n",
            "4  7000004  how many of you commenters have garbage piled ...   \n",
            "5  7000005  Why can't the Globe & Mail provide the symbols...   \n",
            "6  7000006  That's already been happening, Carl, it's call...   \n",
            "7  7000007  imagine the costs for security, transportation...   \n",
            "8  7000008  So they want to put United on the board of thi...   \n",
            "9  7000009  No, no that can't be.  It's Russia that's the ...   \n",
            "\n",
            "                    created_date  toxicity  severe_toxicity   obscene  \\\n",
            "0  2017-01-26 07:37:38.422417+00  0.200000              0.0  0.000000   \n",
            "1  2016-12-03 20:38:21.204649+00  0.000000              0.0  0.000000   \n",
            "2  2017-05-05 18:07:58.560078+00  0.000000              0.0  0.000000   \n",
            "3  2017-02-09 14:46:30.189044+00  0.000000              0.0  0.000000   \n",
            "4  2016-10-15 01:18:40.521923+00  0.753846              0.0  0.046154   \n",
            "5  2017-09-27 13:20:49.910692+00  0.000000              0.0  0.000000   \n",
            "6  2017-07-01 19:37:29.936990+00  0.100000              0.0  0.000000   \n",
            "7  2017-07-03 17:54:29.827874+00  0.000000              0.0  0.000000   \n",
            "8  2017-06-03 21:03:59.623608+00  0.000000              0.0  0.000000   \n",
            "9  2017-03-30 10:49:40.667360+00  0.400000              0.0  0.000000   \n",
            "\n",
            "   sexual_explicit  identity_attack    insult  threat  ...  christian  jewish  \\\n",
            "0              0.0              0.0  0.200000     0.0  ...        NaN     NaN   \n",
            "1              0.0              0.0  0.000000     0.0  ...        NaN     NaN   \n",
            "2              0.0              0.0  0.000000     0.0  ...        NaN     NaN   \n",
            "3              0.0              0.0  0.000000     0.0  ...        NaN     NaN   \n",
            "4              0.0              0.0  0.723077     0.0  ...        NaN     NaN   \n",
            "5              0.0              0.0  0.000000     0.0  ...        NaN     NaN   \n",
            "6              0.0              0.0  0.100000     0.0  ...        NaN     NaN   \n",
            "7              0.0              0.0  0.000000     0.0  ...        NaN     NaN   \n",
            "8              0.0              0.0  0.000000     0.0  ...        NaN     NaN   \n",
            "9              0.0              0.4  0.200000     0.0  ...        NaN     NaN   \n",
            "\n",
            "   muslim  hindu  buddhist  other_religion  black  white  latino  \\\n",
            "0     NaN    NaN       NaN             NaN    NaN    NaN     NaN   \n",
            "1     NaN    NaN       NaN             NaN    NaN    NaN     NaN   \n",
            "2     NaN    NaN       NaN             NaN    NaN    NaN     NaN   \n",
            "3     NaN    NaN       NaN             NaN    NaN    NaN     NaN   \n",
            "4     NaN    NaN       NaN             NaN    NaN    NaN     NaN   \n",
            "5     NaN    NaN       NaN             NaN    NaN    NaN     NaN   \n",
            "6     NaN    NaN       NaN             NaN    NaN    NaN     NaN   \n",
            "7     NaN    NaN       NaN             NaN    NaN    NaN     NaN   \n",
            "8     NaN    NaN       NaN             NaN    NaN    NaN     NaN   \n",
            "9     NaN    NaN       NaN             NaN    NaN    NaN     NaN   \n",
            "\n",
            "   other_race_or_ethnicity  \n",
            "0                      NaN  \n",
            "1                      NaN  \n",
            "2                      NaN  \n",
            "3                      NaN  \n",
            "4                      NaN  \n",
            "5                      NaN  \n",
            "6                      NaN  \n",
            "7                      NaN  \n",
            "8                      NaN  \n",
            "9                      NaN  \n",
            "\n",
            "[10 rows x 26 columns]\n"
          ]
        }
      ]
    },
    {
      "cell_type": "code",
      "source": [
        "\n",
        "# Replace NaN in object (string/categorical) columns with 'none'\n",
        "object_cols = test_df.select_dtypes(include='object').columns\n",
        "test_df[object_cols] = test_df[object_cols].fillna(\"none\")\n",
        "\n",
        "# Replace NaN in numeric columns with 0\n",
        "numeric_cols = test_df.select_dtypes(include=['number']).columns\n",
        "test_df[numeric_cols] = test_df[numeric_cols].fillna(0)\n",
        "\n",
        "print(\"\\n First 10 rows of training set:\")\n",
        "print(test_df.head(10))"
      ],
      "metadata": {
        "colab": {
          "base_uri": "https://localhost:8080/"
        },
        "id": "9XjpGqDoe0Hb",
        "outputId": "75ccfed7-1fa4-47a5-9caf-c67b175c4597"
      },
      "execution_count": 5,
      "outputs": [
        {
          "output_type": "stream",
          "name": "stdout",
          "text": [
            "\n",
            " First 10 rows of training set:\n",
            "        id                                       comment_text  \\\n",
            "0  7000000  Jeff Sessions is another one of Trump's Orwell...   \n",
            "1  7000001  I actually inspected the infrastructure on Gra...   \n",
            "2  7000002  No it won't . That's just wishful thinking on ...   \n",
            "3  7000003  Instead of wringing our hands and nibbling the...   \n",
            "4  7000004  how many of you commenters have garbage piled ...   \n",
            "5  7000005  Why can't the Globe & Mail provide the symbols...   \n",
            "6  7000006  That's already been happening, Carl, it's call...   \n",
            "7  7000007  imagine the costs for security, transportation...   \n",
            "8  7000008  So they want to put United on the board of thi...   \n",
            "9  7000009  No, no that can't be.  It's Russia that's the ...   \n",
            "\n",
            "                    created_date  toxicity  severe_toxicity   obscene  \\\n",
            "0  2017-01-26 07:37:38.422417+00  0.200000              0.0  0.000000   \n",
            "1  2016-12-03 20:38:21.204649+00  0.000000              0.0  0.000000   \n",
            "2  2017-05-05 18:07:58.560078+00  0.000000              0.0  0.000000   \n",
            "3  2017-02-09 14:46:30.189044+00  0.000000              0.0  0.000000   \n",
            "4  2016-10-15 01:18:40.521923+00  0.753846              0.0  0.046154   \n",
            "5  2017-09-27 13:20:49.910692+00  0.000000              0.0  0.000000   \n",
            "6  2017-07-01 19:37:29.936990+00  0.100000              0.0  0.000000   \n",
            "7  2017-07-03 17:54:29.827874+00  0.000000              0.0  0.000000   \n",
            "8  2017-06-03 21:03:59.623608+00  0.000000              0.0  0.000000   \n",
            "9  2017-03-30 10:49:40.667360+00  0.400000              0.0  0.000000   \n",
            "\n",
            "   sexual_explicit  identity_attack    insult  threat  ...  christian  jewish  \\\n",
            "0              0.0              0.0  0.200000     0.0  ...        0.0     0.0   \n",
            "1              0.0              0.0  0.000000     0.0  ...        0.0     0.0   \n",
            "2              0.0              0.0  0.000000     0.0  ...        0.0     0.0   \n",
            "3              0.0              0.0  0.000000     0.0  ...        0.0     0.0   \n",
            "4              0.0              0.0  0.723077     0.0  ...        0.0     0.0   \n",
            "5              0.0              0.0  0.000000     0.0  ...        0.0     0.0   \n",
            "6              0.0              0.0  0.100000     0.0  ...        0.0     0.0   \n",
            "7              0.0              0.0  0.000000     0.0  ...        0.0     0.0   \n",
            "8              0.0              0.0  0.000000     0.0  ...        0.0     0.0   \n",
            "9              0.0              0.4  0.200000     0.0  ...        0.0     0.0   \n",
            "\n",
            "   muslim  hindu  buddhist  other_religion  black  white  latino  \\\n",
            "0     0.0    0.0       0.0             0.0    0.0    0.0     0.0   \n",
            "1     0.0    0.0       0.0             0.0    0.0    0.0     0.0   \n",
            "2     0.0    0.0       0.0             0.0    0.0    0.0     0.0   \n",
            "3     0.0    0.0       0.0             0.0    0.0    0.0     0.0   \n",
            "4     0.0    0.0       0.0             0.0    0.0    0.0     0.0   \n",
            "5     0.0    0.0       0.0             0.0    0.0    0.0     0.0   \n",
            "6     0.0    0.0       0.0             0.0    0.0    0.0     0.0   \n",
            "7     0.0    0.0       0.0             0.0    0.0    0.0     0.0   \n",
            "8     0.0    0.0       0.0             0.0    0.0    0.0     0.0   \n",
            "9     0.0    0.0       0.0             0.0    0.0    0.0     0.0   \n",
            "\n",
            "   other_race_or_ethnicity  \n",
            "0                      0.0  \n",
            "1                      0.0  \n",
            "2                      0.0  \n",
            "3                      0.0  \n",
            "4                      0.0  \n",
            "5                      0.0  \n",
            "6                      0.0  \n",
            "7                      0.0  \n",
            "8                      0.0  \n",
            "9                      0.0  \n",
            "\n",
            "[10 rows x 26 columns]\n"
          ]
        }
      ]
    },
    {
      "cell_type": "code",
      "source": [
        "test_df.to_csv(\"test_clean.csv\", index=False)\n"
      ],
      "metadata": {
        "id": "ODUk3o_Ti0XK"
      },
      "execution_count": 6,
      "outputs": []
    },
    {
      "cell_type": "code",
      "source": [
        "from google.colab import files\n",
        "files.download('test_clean.csv')"
      ],
      "metadata": {
        "colab": {
          "base_uri": "https://localhost:8080/",
          "height": 17
        },
        "id": "D2aENdc2jNpl",
        "outputId": "76aab180-5328-43a7-85a3-cf05af4fa939"
      },
      "execution_count": 7,
      "outputs": [
        {
          "output_type": "display_data",
          "data": {
            "text/plain": [
              "<IPython.core.display.Javascript object>"
            ],
            "application/javascript": [
              "\n",
              "    async function download(id, filename, size) {\n",
              "      if (!google.colab.kernel.accessAllowed) {\n",
              "        return;\n",
              "      }\n",
              "      const div = document.createElement('div');\n",
              "      const label = document.createElement('label');\n",
              "      label.textContent = `Downloading \"${filename}\": `;\n",
              "      div.appendChild(label);\n",
              "      const progress = document.createElement('progress');\n",
              "      progress.max = size;\n",
              "      div.appendChild(progress);\n",
              "      document.body.appendChild(div);\n",
              "\n",
              "      const buffers = [];\n",
              "      let downloaded = 0;\n",
              "\n",
              "      const channel = await google.colab.kernel.comms.open(id);\n",
              "      // Send a message to notify the kernel that we're ready.\n",
              "      channel.send({})\n",
              "\n",
              "      for await (const message of channel.messages) {\n",
              "        // Send a message to notify the kernel that we're ready.\n",
              "        channel.send({})\n",
              "        if (message.buffers) {\n",
              "          for (const buffer of message.buffers) {\n",
              "            buffers.push(buffer);\n",
              "            downloaded += buffer.byteLength;\n",
              "            progress.value = downloaded;\n",
              "          }\n",
              "        }\n",
              "      }\n",
              "      const blob = new Blob(buffers, {type: 'application/binary'});\n",
              "      const a = document.createElement('a');\n",
              "      a.href = window.URL.createObjectURL(blob);\n",
              "      a.download = filename;\n",
              "      div.appendChild(a);\n",
              "      a.click();\n",
              "      div.remove();\n",
              "    }\n",
              "  "
            ]
          },
          "metadata": {}
        },
        {
          "output_type": "display_data",
          "data": {
            "text/plain": [
              "<IPython.core.display.Javascript object>"
            ],
            "application/javascript": [
              "download(\"download_a7f37432-19b5-428f-b3ea-1f915ed577ac\", \"test_clean.csv\", 42308211)"
            ]
          },
          "metadata": {}
        }
      ]
    }
  ]
}
