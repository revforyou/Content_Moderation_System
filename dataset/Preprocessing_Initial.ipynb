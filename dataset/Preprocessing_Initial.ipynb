{
  "nbformat": 4,
  "nbformat_minor": 0,
  "metadata": {
    "colab": {
      "provenance": [],
      "gpuType": "T4"
    },
    "kernelspec": {
      "name": "python3",
      "display_name": "Python 3"
    },
    "language_info": {
      "name": "python"
    },
    "accelerator": "GPU"
  },
  "cells": [
    {
      "cell_type": "code",
      "execution_count": 6,
      "metadata": {
        "id": "bNxn6WAzCpPP",
        "colab": {
          "base_uri": "https://localhost:8080/"
        },
        "outputId": "b8edc232-a564-4511-d4a0-9ba82c91752a"
      },
      "outputs": [
        {
          "output_type": "stream",
          "name": "stdout",
          "text": [
            "Using device: cuda\n"
          ]
        }
      ],
      "source": [
        "import pandas as pd\n",
        "import torch\n",
        "import numpy as np\n",
        "import os\n",
        "import re\n",
        "from sklearn.model_selection import train_test_split\n",
        "\n",
        "device = torch.device(\"cuda\" if torch.cuda.is_available() else \"cpu\")\n",
        "print(\"Using device:\", device)\n",
        "\n",
        "DATA_DIR = \"\"  # Set this if you're not in the same directory\n",
        "SAVE_DIR = \"preprocessed_data\"\n",
        "RANDOM_STATE = 42\n",
        "VAL_SIZE = 0.1\n",
        "\n",
        "os.makedirs(SAVE_DIR, exist_ok=True)"
      ]
    },
    {
      "cell_type": "code",
      "source": [
        "print(\"Loading main datasets...\")\n",
        "train = pd.read_csv(os.path.join(DATA_DIR, \"train.csv\"))\n",
        "test = pd.read_csv(os.path.join(DATA_DIR, \"test.csv\"))\n",
        "\n",
        "print(\"Loading annotation data...\")\n",
        "toxicity_ann = pd.read_csv(os.path.join(DATA_DIR, \"toxicity_individual_annotations.csv\"))\n",
        "identity_ann = pd.read_csv(os.path.join(DATA_DIR, \"identity_individual_annotations.csv\"))"
      ],
      "metadata": {
        "id": "I4_OwkTYCvuQ",
        "colab": {
          "base_uri": "https://localhost:8080/"
        },
        "outputId": "a1ccf07b-220e-4910-a0e8-28e47b271bc9"
      },
      "execution_count": 7,
      "outputs": [
        {
          "output_type": "stream",
          "name": "stdout",
          "text": [
            "Loading main datasets...\n",
            "Loading annotation data...\n"
          ]
        }
      ]
    },
    {
      "cell_type": "code",
      "source": [
        "import pandas as pd\n",
        "\n",
        "def fast_mode_aggregation(df, group_col):\n",
        "    result_df = pd.DataFrame()\n",
        "    result_df[group_col] = df[group_col].unique()\n",
        "    result_df.set_index(group_col, inplace=True)\n",
        "\n",
        "    for col in df.columns:\n",
        "        if col == group_col:\n",
        "            continue\n",
        "        print(f\"Processing column: {col}\")\n",
        "        # Use mode per group\n",
        "        mode_series = df.groupby(group_col)[col].agg(lambda x: x.mode().iloc[0] if not x.mode().empty else x.iloc[0])\n",
        "        result_df[col] = mode_series\n",
        "\n",
        "    result_df.reset_index(inplace=True)\n",
        "    return result_df"
      ],
      "metadata": {
        "id": "_3VC3Z2aCxzD"
      },
      "execution_count": 8,
      "outputs": []
    },
    {
      "cell_type": "code",
      "source": [
        "# Load the individual annotation files\n",
        "toxicity_ann = pd.read_csv(\"toxicity_individual_annotations.csv\")\n",
        "identity_ann = pd.read_csv(\"identity_individual_annotations.csv\")\n",
        "\n",
        "print(\"Aggregating toxicity annotations by mode...\")\n",
        "toxicity_agg = fast_mode_aggregation(toxicity_ann, \"id\")\n",
        "print(\"Aggregating identity annotations by mode...\")\n",
        "identity_agg = fast_mode_aggregation(identity_ann, \"id\")\n",
        "\n",
        "# Load train.csv\n",
        "train = pd.read_csv(\"train.csv\")\n",
        "\n",
        "# Merge annotations into the main training data\n",
        "train = train.merge(toxicity_agg, on=\"id\", how=\"left\")\n",
        "train = train.merge(identity_agg, on=\"id\", how=\"left\")\n",
        "\n",
        "# Save the merged result\n",
        "train.to_csv(\"preprocessed_data/train_with_annotations.csv\", index=False)\n",
        "print(\"Merged and saved to 'train_annotations.csv'\")"
      ],
      "metadata": {
        "id": "8cn_jUN_C09Y",
        "colab": {
          "base_uri": "https://localhost:8080/"
        },
        "outputId": "6b0f5654-c0d2-4ed1-84f2-aea7bb8f919b"
      },
      "execution_count": 9,
      "outputs": [
        {
          "output_type": "stream",
          "name": "stdout",
          "text": [
            "Aggregating toxicity annotations by mode...\n",
            "Processing column: worker\n",
            "Processing column: toxic\n",
            "Processing column: severe_toxic\n",
            "Processing column: identity_attack\n",
            "Processing column: insult\n",
            "Processing column: obscene\n",
            "Processing column: sexual_explicit\n",
            "Processing column: threat\n",
            "Aggregating identity annotations by mode...\n",
            "Processing column: worker\n",
            "Processing column: disability\n",
            "Processing column: gender\n",
            "Processing column: race_or_ethnicity\n",
            "Processing column: religion\n",
            "Processing column: sexual_orientation\n",
            "Merged and saved to 'train_annotations.csv'\n"
          ]
        }
      ]
    },
    {
      "cell_type": "code",
      "source": [
        "# Stratify by binary target for balanced split\n",
        "train_split, val_split = train_test_split(\n",
        "    train,\n",
        "    test_size=VAL_SIZE,\n",
        "    stratify=(train[\"target\"] >= 0.5).astype(int),\n",
        "    random_state=RANDOM_STATE\n",
        ")\n",
        "\n",
        "# Save splits\n",
        "train_split.to_csv(os.path.join(SAVE_DIR, \"train_clean.csv\"), index=False)\n",
        "val_split.to_csv(os.path.join(SAVE_DIR, \"val_clean.csv\"), index=False)\n",
        "\n",
        "# Load the provided test.csv (no labels)\n",
        "test = pd.read_csv(\"test.csv\")\n",
        "test.to_csv(os.path.join(SAVE_DIR, \"test_clean.csv\"), index=False)\n",
        "\n",
        "print(\"✅ Saved: train_clean.csv, val_clean.csv, test_clean.csv\")"
      ],
      "metadata": {
        "id": "QI1DAFguC4QR",
        "colab": {
          "base_uri": "https://localhost:8080/"
        },
        "outputId": "108172d9-a670-4a4f-b41f-093b3bcbc680"
      },
      "execution_count": 10,
      "outputs": [
        {
          "output_type": "stream",
          "name": "stdout",
          "text": [
            "✅ Saved: train_clean.csv, val_clean.csv, test_clean.csv\n"
          ]
        }
      ]
    },
    {
      "cell_type": "code",
      "source": [
        "from google.colab import files\n",
        "\n",
        "files.download('preprocessed_data/train_clean.csv')\n"
      ],
      "metadata": {
        "colab": {
          "base_uri": "https://localhost:8080/",
          "height": 17
        },
        "id": "l-gK0fa0bZNb",
        "outputId": "2147d33a-32a2-4b67-f270-6c9ea9071b3d"
      },
      "execution_count": 14,
      "outputs": [
        {
          "output_type": "display_data",
          "data": {
            "text/plain": [
              "<IPython.core.display.Javascript object>"
            ],
            "application/javascript": [
              "\n",
              "    async function download(id, filename, size) {\n",
              "      if (!google.colab.kernel.accessAllowed) {\n",
              "        return;\n",
              "      }\n",
              "      const div = document.createElement('div');\n",
              "      const label = document.createElement('label');\n",
              "      label.textContent = `Downloading \"${filename}\": `;\n",
              "      div.appendChild(label);\n",
              "      const progress = document.createElement('progress');\n",
              "      progress.max = size;\n",
              "      div.appendChild(progress);\n",
              "      document.body.appendChild(div);\n",
              "\n",
              "      const buffers = [];\n",
              "      let downloaded = 0;\n",
              "\n",
              "      const channel = await google.colab.kernel.comms.open(id);\n",
              "      // Send a message to notify the kernel that we're ready.\n",
              "      channel.send({})\n",
              "\n",
              "      for await (const message of channel.messages) {\n",
              "        // Send a message to notify the kernel that we're ready.\n",
              "        channel.send({})\n",
              "        if (message.buffers) {\n",
              "          for (const buffer of message.buffers) {\n",
              "            buffers.push(buffer);\n",
              "            downloaded += buffer.byteLength;\n",
              "            progress.value = downloaded;\n",
              "          }\n",
              "        }\n",
              "      }\n",
              "      const blob = new Blob(buffers, {type: 'application/binary'});\n",
              "      const a = document.createElement('a');\n",
              "      a.href = window.URL.createObjectURL(blob);\n",
              "      a.download = filename;\n",
              "      div.appendChild(a);\n",
              "      a.click();\n",
              "      div.remove();\n",
              "    }\n",
              "  "
            ]
          },
          "metadata": {}
        },
        {
          "output_type": "display_data",
          "data": {
            "text/plain": [
              "<IPython.core.display.Javascript object>"
            ],
            "application/javascript": [
              "download(\"download_e11cd6e1-9ea3-4f5a-9241-e672d9648a2d\", \"train_clean.csv\", 782833591)"
            ]
          },
          "metadata": {}
        }
      ]
    },
    {
      "cell_type": "code",
      "source": [
        "files.download('preprocessed_data/val_clean.csv')"
      ],
      "metadata": {
        "colab": {
          "base_uri": "https://localhost:8080/",
          "height": 17
        },
        "id": "qX1WiC4qbdJH",
        "outputId": "fe78fbfb-8153-44c2-d6f8-69d3998d76eb"
      },
      "execution_count": 15,
      "outputs": [
        {
          "output_type": "display_data",
          "data": {
            "text/plain": [
              "<IPython.core.display.Javascript object>"
            ],
            "application/javascript": [
              "\n",
              "    async function download(id, filename, size) {\n",
              "      if (!google.colab.kernel.accessAllowed) {\n",
              "        return;\n",
              "      }\n",
              "      const div = document.createElement('div');\n",
              "      const label = document.createElement('label');\n",
              "      label.textContent = `Downloading \"${filename}\": `;\n",
              "      div.appendChild(label);\n",
              "      const progress = document.createElement('progress');\n",
              "      progress.max = size;\n",
              "      div.appendChild(progress);\n",
              "      document.body.appendChild(div);\n",
              "\n",
              "      const buffers = [];\n",
              "      let downloaded = 0;\n",
              "\n",
              "      const channel = await google.colab.kernel.comms.open(id);\n",
              "      // Send a message to notify the kernel that we're ready.\n",
              "      channel.send({})\n",
              "\n",
              "      for await (const message of channel.messages) {\n",
              "        // Send a message to notify the kernel that we're ready.\n",
              "        channel.send({})\n",
              "        if (message.buffers) {\n",
              "          for (const buffer of message.buffers) {\n",
              "            buffers.push(buffer);\n",
              "            downloaded += buffer.byteLength;\n",
              "            progress.value = downloaded;\n",
              "          }\n",
              "        }\n",
              "      }\n",
              "      const blob = new Blob(buffers, {type: 'application/binary'});\n",
              "      const a = document.createElement('a');\n",
              "      a.href = window.URL.createObjectURL(blob);\n",
              "      a.download = filename;\n",
              "      div.appendChild(a);\n",
              "      a.click();\n",
              "      div.remove();\n",
              "    }\n",
              "  "
            ]
          },
          "metadata": {}
        },
        {
          "output_type": "display_data",
          "data": {
            "text/plain": [
              "<IPython.core.display.Javascript object>"
            ],
            "application/javascript": [
              "download(\"download_196b2efe-8f64-4fc5-9e2a-54e7cdd446a0\", \"val_clean.csv\", 87252987)"
            ]
          },
          "metadata": {}
        }
      ]
    }
  ]
}
